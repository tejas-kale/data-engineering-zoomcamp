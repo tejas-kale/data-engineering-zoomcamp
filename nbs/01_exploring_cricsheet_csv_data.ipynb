{
 "cells": [
  {
   "cell_type": "markdown",
   "source": [
    "# Exploring Cricsheet's Data\n",
    "\n",
    "In this data, we will understand how the data of a cricket match is structured in a CSV file provided by Cricsheet. The manner in which the data is laid out is provided on the page [Introduction to the \"Ashwin\" CSV format](https://cricsheet.org/format/csv_ashwin/#introduction-to-the-quot-ashwin-quot-csv-format).\n",
    "\n",
    "## Load data\n",
    "\n",
    "Let us begin by importing the required packages and loading data from CSV files. By looking at the documentation, we know that data for each match is available in 2 files - one with the `_info` suffix and one without. The former has match information like venue, toss, umpires, etc. and the latter provides ball-by-ball data."
   ],
   "metadata": {
    "collapsed": false
   }
  },
  {
   "cell_type": "code",
   "execution_count": 1,
   "outputs": [],
   "source": [
    "from pathlib import Path\n",
    "import os\n",
    "\n",
    "import pandas as pd"
   ],
   "metadata": {
    "collapsed": false
   }
  },
  {
   "cell_type": "code",
   "execution_count": 2,
   "outputs": [],
   "source": [
    "data_dir: str = \"../data/cricsheet/csv\""
   ],
   "metadata": {
    "collapsed": false
   }
  },
  {
   "cell_type": "markdown",
   "source": [
    "Let us get the ID of the first file that `os.listdir()` provides."
   ],
   "metadata": {
    "collapsed": false
   }
  },
  {
   "cell_type": "code",
   "execution_count": 4,
   "outputs": [
    {
     "data": {
      "text/plain": "'913655'"
     },
     "execution_count": 4,
     "metadata": {},
     "output_type": "execute_result"
    }
   ],
   "source": [
    "sample_match_id: str = Path(os.listdir(data_dir)[0]).stem.split(\"_\")[0]\n",
    "sample_match_id"
   ],
   "metadata": {
    "collapsed": false
   }
  },
  {
   "cell_type": "markdown",
   "source": [
    "Let us now load the match info and ball-by-ball data for this match."
   ],
   "metadata": {
    "collapsed": false
   }
  },
  {
   "cell_type": "code",
   "execution_count": 7,
   "outputs": [
    {
     "data": {
      "text/plain": "    section        category   value_1        value_2   value_3\n0   version           2.1.0       NaN            NaN       NaN\n1      info  balls_per_over         6            NaN       NaN\n2      info            team   England            NaN       NaN\n3      info            team  Pakistan            NaN       NaN\n4      info          gender      male            NaN       NaN\n..      ...             ...       ...            ...       ...\n65     info        registry    people  Sarfraz Ahmed  2254ab79\n66     info        registry    people  Sharjeel Khan  193ef196\n67     info        registry    people   Shoaib Malik  64c34cd0\n68     info        registry    people     Wahab Riaz  b3118300\n69     info        registry    people     Yasir Shah  f2800ef3\n\n[70 rows x 5 columns]",
      "text/html": "<div>\n<style scoped>\n    .dataframe tbody tr th:only-of-type {\n        vertical-align: middle;\n    }\n\n    .dataframe tbody tr th {\n        vertical-align: top;\n    }\n\n    .dataframe thead th {\n        text-align: right;\n    }\n</style>\n<table border=\"1\" class=\"dataframe\">\n  <thead>\n    <tr style=\"text-align: right;\">\n      <th></th>\n      <th>section</th>\n      <th>category</th>\n      <th>value_1</th>\n      <th>value_2</th>\n      <th>value_3</th>\n    </tr>\n  </thead>\n  <tbody>\n    <tr>\n      <th>0</th>\n      <td>version</td>\n      <td>2.1.0</td>\n      <td>NaN</td>\n      <td>NaN</td>\n      <td>NaN</td>\n    </tr>\n    <tr>\n      <th>1</th>\n      <td>info</td>\n      <td>balls_per_over</td>\n      <td>6</td>\n      <td>NaN</td>\n      <td>NaN</td>\n    </tr>\n    <tr>\n      <th>2</th>\n      <td>info</td>\n      <td>team</td>\n      <td>England</td>\n      <td>NaN</td>\n      <td>NaN</td>\n    </tr>\n    <tr>\n      <th>3</th>\n      <td>info</td>\n      <td>team</td>\n      <td>Pakistan</td>\n      <td>NaN</td>\n      <td>NaN</td>\n    </tr>\n    <tr>\n      <th>4</th>\n      <td>info</td>\n      <td>gender</td>\n      <td>male</td>\n      <td>NaN</td>\n      <td>NaN</td>\n    </tr>\n    <tr>\n      <th>...</th>\n      <td>...</td>\n      <td>...</td>\n      <td>...</td>\n      <td>...</td>\n      <td>...</td>\n    </tr>\n    <tr>\n      <th>65</th>\n      <td>info</td>\n      <td>registry</td>\n      <td>people</td>\n      <td>Sarfraz Ahmed</td>\n      <td>2254ab79</td>\n    </tr>\n    <tr>\n      <th>66</th>\n      <td>info</td>\n      <td>registry</td>\n      <td>people</td>\n      <td>Sharjeel Khan</td>\n      <td>193ef196</td>\n    </tr>\n    <tr>\n      <th>67</th>\n      <td>info</td>\n      <td>registry</td>\n      <td>people</td>\n      <td>Shoaib Malik</td>\n      <td>64c34cd0</td>\n    </tr>\n    <tr>\n      <th>68</th>\n      <td>info</td>\n      <td>registry</td>\n      <td>people</td>\n      <td>Wahab Riaz</td>\n      <td>b3118300</td>\n    </tr>\n    <tr>\n      <th>69</th>\n      <td>info</td>\n      <td>registry</td>\n      <td>people</td>\n      <td>Yasir Shah</td>\n      <td>f2800ef3</td>\n    </tr>\n  </tbody>\n</table>\n<p>70 rows × 5 columns</p>\n</div>"
     },
     "execution_count": 7,
     "metadata": {},
     "output_type": "execute_result"
    }
   ],
   "source": [
    "sample_match_info: pd.DataFrame = pd.read_csv(\n",
    "    os.path.join(data_dir, f\"{sample_match_id}_info.csv\"),\n",
    "    names=[\"section\", \"category\", \"value_1\", \"value_2\", \"value_3\"]\n",
    ")\n",
    "sample_match_info"
   ],
   "metadata": {
    "collapsed": false
   }
  }
 ],
 "metadata": {
  "kernelspec": {
   "display_name": "Python 3",
   "language": "python",
   "name": "python3"
  },
  "language_info": {
   "codemirror_mode": {
    "name": "ipython",
    "version": 2
   },
   "file_extension": ".py",
   "mimetype": "text/x-python",
   "name": "python",
   "nbconvert_exporter": "python",
   "pygments_lexer": "ipython2",
   "version": "2.7.6"
  }
 },
 "nbformat": 4,
 "nbformat_minor": 0
}
